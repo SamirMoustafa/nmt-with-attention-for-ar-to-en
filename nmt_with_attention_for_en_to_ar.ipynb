{
 "cells": [
  {
   "cell_type": "code",
   "execution_count": 1,
   "metadata": {
    "colab": {
     "base_uri": "https://localhost:8080/",
     "height": 530.0
    },
    "colab_type": "code",
    "executionInfo": {
     "elapsed": 48777.0,
     "status": "ok",
     "timestamp": 1.552767906378E12,
     "user": {
      "displayName": "Samir Moustafa",
      "photoUrl": "https://lh3.googleusercontent.com/-MThIV-xQMp8/AAAAAAAAAAI/AAAAAAAAAEQ/IBKaQGxYglA/s64/photo.jpg",
      "userId": "03656186636167873433"
     },
     "user_tz": -120.0
    },
    "id": "GAEX3CPITvHR",
    "outputId": "0a253921-99db-4374-9e8a-4288ed8b03b4",
    "scrolled": true
   },
   "outputs": [
    {
     "name": "stdout",
     "output_type": "stream",
     "text": [
      "Requirement already satisfied: tensorflow==2.0.0-alpha0 in /home/samir/anaconda3/envs/test/lib/python3.6/site-packages (2.0.0a0)\n",
      "Requirement already satisfied: gast>=0.2.0 in /home/samir/anaconda3/envs/test/lib/python3.6/site-packages (from tensorflow==2.0.0-alpha0) (0.2.2)\n",
      "Requirement already satisfied: termcolor>=1.1.0 in /home/samir/anaconda3/envs/test/lib/python3.6/site-packages (from tensorflow==2.0.0-alpha0) (1.1.0)\n",
      "Requirement already satisfied: absl-py>=0.7.0 in /home/samir/anaconda3/envs/test/lib/python3.6/site-packages (from tensorflow==2.0.0-alpha0) (0.7.0)\n",
      "Requirement already satisfied: numpy<2.0,>=1.14.5 in /home/samir/anaconda3/envs/test/lib/python3.6/site-packages (from tensorflow==2.0.0-alpha0) (1.16.1)\n",
      "Requirement already satisfied: tf-estimator-nightly<1.14.0.dev2019030116,>=1.14.0.dev2019030115 in /home/samir/anaconda3/envs/test/lib/python3.6/site-packages (from tensorflow==2.0.0-alpha0) (1.14.0.dev2019030115)\n",
      "Requirement already satisfied: google-pasta>=0.1.2 in /home/samir/anaconda3/envs/test/lib/python3.6/site-packages (from tensorflow==2.0.0-alpha0) (0.1.4)\n",
      "Requirement already satisfied: protobuf>=3.6.1 in /home/samir/anaconda3/envs/test/lib/python3.6/site-packages (from tensorflow==2.0.0-alpha0) (3.6.1)\n",
      "Requirement already satisfied: grpcio>=1.8.6 in /home/samir/anaconda3/envs/test/lib/python3.6/site-packages (from tensorflow==2.0.0-alpha0) (1.18.0)\n",
      "Requirement already satisfied: astor>=0.6.0 in /home/samir/anaconda3/envs/test/lib/python3.6/site-packages (from tensorflow==2.0.0-alpha0) (0.7.1)\n",
      "Requirement already satisfied: wheel>=0.26 in /home/samir/.local/lib/python3.6/site-packages (from tensorflow==2.0.0-alpha0) (0.32.3)\n",
      "Requirement already satisfied: six>=1.10.0 in /home/samir/anaconda3/envs/test/lib/python3.6/site-packages (from tensorflow==2.0.0-alpha0) (1.12.0)\n",
      "Requirement already satisfied: keras-preprocessing>=1.0.5 in /home/samir/anaconda3/envs/test/lib/python3.6/site-packages (from tensorflow==2.0.0-alpha0) (1.0.9)\n",
      "Requirement already satisfied: tb-nightly<1.14.0a20190302,>=1.14.0a20190301 in /home/samir/anaconda3/envs/test/lib/python3.6/site-packages (from tensorflow==2.0.0-alpha0) (1.14.0a20190301)\n",
      "Requirement already satisfied: keras-applications>=1.0.6 in /home/samir/anaconda3/envs/test/lib/python3.6/site-packages (from tensorflow==2.0.0-alpha0) (1.0.7)\n",
      "Requirement already satisfied: setuptools in /home/samir/.local/lib/python3.6/site-packages (from protobuf>=3.6.1->tensorflow==2.0.0-alpha0) (40.6.3)\n",
      "Requirement already satisfied: markdown>=2.6.8 in /home/samir/anaconda3/envs/test/lib/python3.6/site-packages (from tb-nightly<1.14.0a20190302,>=1.14.0a20190301->tensorflow==2.0.0-alpha0) (3.0.1)\n",
      "Requirement already satisfied: werkzeug>=0.11.15 in /home/samir/anaconda3/envs/test/lib/python3.6/site-packages (from tb-nightly<1.14.0a20190302,>=1.14.0a20190301->tensorflow==2.0.0-alpha0) (0.14.1)\n",
      "Requirement already satisfied: h5py in /home/samir/anaconda3/envs/test/lib/python3.6/site-packages (from keras-applications>=1.0.6->tensorflow==2.0.0-alpha0) (2.9.0)\n"
     ]
    }
   ],
   "source": [
    "#!pip install tensorflow-gpu==2.0.0-alpha0\n",
    "!pip install tensorflow==2.0.0-alpha0"
   ]
  },
  {
   "cell_type": "code",
   "execution_count": 2,
   "metadata": {
    "colab": {
     "base_uri": "https://localhost:8080/",
     "height": 34.0
    },
    "colab_type": "code",
    "executionInfo": {
     "elapsed": 48765.0,
     "status": "ok",
     "timestamp": 1.552767908691E12,
     "user": {
      "displayName": "Samir Moustafa",
      "photoUrl": "https://lh3.googleusercontent.com/-MThIV-xQMp8/AAAAAAAAAAI/AAAAAAAAAEQ/IBKaQGxYglA/s64/photo.jpg",
      "userId": "03656186636167873433"
     },
     "user_tz": -120.0
    },
    "id": "tnxXKDjq3jEL",
    "outputId": "588040ff-aed0-4ec9-a91a-a99c80665391"
   },
   "outputs": [
    {
     "name": "stdout",
     "output_type": "stream",
     "text": [
      "2.0.0-alpha0\n"
     ]
    }
   ],
   "source": [
    "from __future__ import absolute_import, division, print_function\n",
    "\n",
    "# Import TensorFlow >= 1.10 and enable eager execution\n",
    "import tensorflow as tf\n",
    "\n",
    "#tf.enable_eager_execution()\n",
    "\n",
    "import matplotlib.pyplot as plt\n",
    "from sklearn.model_selection import train_test_split\n",
    "\n",
    "from bidi.algorithm import get_display\n",
    "import arabic_reshaper\n",
    "import unicodedata\n",
    "import re\n",
    "import numpy as np\n",
    "import os\n",
    "import time\n",
    "import math \n",
    "\n",
    "print(tf.__version__)"
   ]
  },
  {
   "cell_type": "markdown",
   "metadata": {
    "colab_type": "text",
    "id": "wfodePkj3jEa"
   },
   "source": [
    "## Download and prepare the dataset\n",
    "\n",
    "1. Add a *start* and *end* token to each sentence.\n",
    "2. Clean the sentences by removing special characters.\n",
    "3. Create a word index and reverse word index (dictionaries mapping from word → id and id → word).\n",
    "4. Pad each sentence to a maximum length."
   ]
  },
  {
   "cell_type": "code",
   "execution_count": 3,
   "metadata": {
    "colab": {
     "base_uri": "https://localhost:8080/",
     "height": 102.0
    },
    "colab_type": "code",
    "executionInfo": {
     "elapsed": 48362.0,
     "status": "ok",
     "timestamp": 1.552767916715E12,
     "user": {
      "displayName": "Samir Moustafa",
      "photoUrl": "https://lh3.googleusercontent.com/-MThIV-xQMp8/AAAAAAAAAAI/AAAAAAAAAEQ/IBKaQGxYglA/s64/photo.jpg",
      "userId": "03656186636167873433"
     },
     "user_tz": -120.0
    },
    "id": "kRVATYOgJs1b",
    "outputId": "0fdc8291-eb6f-4d64-aa4f-a8869e53372f"
   },
   "outputs": [],
   "source": [
    "# Path for the dataset file\n",
    "path_to_file = \"ara.txt\""
   ]
  },
  {
   "cell_type": "code",
   "execution_count": 4,
   "metadata": {
    "colab": {},
    "colab_type": "code",
    "id": "rd0jw-eC3jEh"
   },
   "outputs": [],
   "source": [
    "def unicode_to_ascii(s):\n",
    "    '''\n",
    "    Args:\n",
    "        s : UniCode file\n",
    "    Returns:\n",
    "        ASCII file\n",
    "    \n",
    "    Converts the unicode file to ascii\n",
    "    '''\n",
    "    return ''.join(c for c in unicodedata.normalize('NFD', s) if unicodedata.category(c) != 'Mn')\n",
    "\n",
    "\n",
    "def preprocess_sentence(w):\n",
    "    '''\n",
    "    Args:\n",
    "        w : A single word\n",
    "    Returns:\n",
    "        w : Single normalize word \n",
    "    \n",
    "    Convert Unicode to ASCII\n",
    "    Creating a space between a word and the punctuation following it\n",
    "    eg: \"he is a boy.\" => \"he is a boy .\" \n",
    "    Reference:- https://stackoverflow.com/questions/3645931/python-padding-punctuation-with-white-spaces-keeping-punctuation\n",
    "    \n",
    "    Replacing everything with space except (a-z, A-Z, ا-ي \".\", \"?\", \"!\", \",\")\n",
    "    \n",
    "    Adding a start and an end token to the sentence\n",
    "    \n",
    "    '''\n",
    "    w = unicode_to_ascii(w.lower().strip())\n",
    "    \n",
    "    w = re.sub(r\"([?.!,¿])\", r\" \\1 \", w)\n",
    "    w = re.sub(r'[\" \"]+', \" \", w)\n",
    "    \n",
    "    w = re.sub(r\"[^a-zA-Z؀-ۿ?.!,¿]+\", \" \", w)\n",
    "    w = w.rstrip().strip()\n",
    "    \n",
    "    w = '<start> %s <end>'%w\n",
    "    return w"
   ]
  },
  {
   "cell_type": "code",
   "execution_count": 5,
   "metadata": {
    "colab": {},
    "colab_type": "code",
    "id": "OHn4Dct23jEm"
   },
   "outputs": [],
   "source": [
    "def create_dataset(path, num_examples):\n",
    "    '''\n",
    "    Args:\n",
    "        path: Path of the dataset file\n",
    "        num_examples: Threshold to read a range from dataset\n",
    "    Returns:\n",
    "        word_pairs : All readed words from dataset as a pairs \n",
    "        \n",
    "    1. Remove the accents\n",
    "    2. Clean the sentences\n",
    "    3. Return word pairs in the format: [ENGLISH, ARABIC]\n",
    "    '''\n",
    "    lines = open(path, encoding='utf-8-sig').read().strip().split('\\n')\n",
    "    word_pairs = [[preprocess_sentence(w) for w in l.split('\\t')]  for l in lines[:num_examples]]\n",
    "    print(len(lines))\n",
    "    print(len(lines[:num_examples]))\n",
    "    return word_pairs"
   ]
  },
  {
   "cell_type": "code",
   "execution_count": 6,
   "metadata": {
    "colab": {},
    "colab_type": "code",
    "id": "9xbqO7Iie9bb"
   },
   "outputs": [],
   "source": [
    "class LanguageIndex():\n",
    "    ''' Creates a word -> index mapping\n",
    "\n",
    "    This class creates a word -> index mapping \n",
    "    (e.g., \"dad\" -> 5) and vice-versa \n",
    "    (e.g., 5 -> \"dad\") for each language,\n",
    "    \n",
    "    Attributes:\n",
    "        lang: A langauage to map to its index.\n",
    "    '''\n",
    "    def __init__(self, lang):\n",
    "        self.lang = lang\n",
    "        self.word2idx = {}\n",
    "        self.idx2word = {}\n",
    "        self.vocab = set()\n",
    "\n",
    "        self.create_index()\n",
    "    \n",
    "    def create_index(self):\n",
    "        for phrase in self.lang:\n",
    "            self.vocab.update(phrase.split(' '))\n",
    "    \n",
    "        self.vocab = sorted(self.vocab)\n",
    "    \n",
    "        self.word2idx['<pad>'] = 0\n",
    "        \n",
    "        for index, word in enumerate(self.vocab):\n",
    "            self.word2idx[word] = index + 1\n",
    "    \n",
    "        for word, index in self.word2idx.items():\n",
    "            self.idx2word[index] = word"
   ]
  },
  {
   "cell_type": "markdown",
   "metadata": {
    "colab_type": "text",
    "id": "cfCm4I17b11I"
   },
   "source": [
    "• Define function to get the maximum length of tensor for index mapping, then define a load data set function that’s return input tensor, target tensor, input language, target language, max length input and maximum length target.\n"
   ]
  },
  {
   "cell_type": "code",
   "execution_count": 7,
   "metadata": {
    "colab": {},
    "colab_type": "code",
    "id": "eAY9k49G3jE_"
   },
   "outputs": [],
   "source": [
    "def max_length(tensor):\n",
    "    '''\n",
    "    Args: \n",
    "        tensor: Tensor of indexed words\n",
    "    Return:\n",
    "        The maximum size for the longest tensor\n",
    "    '''\n",
    "    return max(len(t) for t in tensor)\n",
    "\n",
    "\n",
    "def load_dataset(path, num_examples):\n",
    "    '''\n",
    "    Args:\n",
    "        path: Path of the dataset\n",
    "        num_examples: Threshold to read a range from dataset\n",
    "    Return:\n",
    "        input_tensor: Tensor of the input language \n",
    "        target_tensor: Tensor for the traget to translate language\n",
    "        inp_lang: Indexed input language \n",
    "        targ_lang:  Indexed traget to translate language\n",
    "        max_length_inp: Maximum length of the input language \n",
    "        max_length_tar: Maximum length of the traget language\n",
    "        \n",
    "    Creating cleaned input, output pairs,\n",
    "    Index language using the class defined above,\n",
    "    Vectorize the input and target languages,\n",
    "    Calculate max_length of input and output tensor, then\n",
    "    Padding the input and output tensor to the maximum length\n",
    "    \n",
    "    '''\n",
    "    pairs = create_dataset(path, num_examples)\n",
    "\n",
    "    inp_lang = LanguageIndex(sp for en, sp in pairs)\n",
    "    targ_lang = LanguageIndex(en for en, sp in pairs)\n",
    "    \n",
    "    \n",
    "    input_tensor = [[inp_lang.word2idx[s] for s in sp.split(' ')] for en, sp in pairs]\n",
    "\n",
    "    target_tensor = [[targ_lang.word2idx[s] for s in en.split(' ')] for en, sp in pairs]\n",
    "    \n",
    "    # Here, we'll set those to the longest sentence in the dataset\n",
    "    max_length_inp, max_length_tar = max_length(input_tensor), max_length(target_tensor)\n",
    "    \n",
    "    input_tensor = tf.keras.preprocessing.sequence.pad_sequences(input_tensor, \n",
    "                                                                 maxlen=max_length_inp,\n",
    "                                                                 padding='post')\n",
    "    \n",
    "    target_tensor = tf.keras.preprocessing.sequence.pad_sequences(target_tensor, \n",
    "                                                                  maxlen=max_length_tar, \n",
    "                                                                  padding='post')\n",
    "    \n",
    "    return input_tensor, target_tensor, inp_lang, targ_lang, max_length_inp, max_length_tar"
   ]
  },
  {
   "cell_type": "markdown",
   "metadata": {
    "colab_type": "text",
    "id": "GOi42V79Ydlr"
   },
   "source": [
    "### Limit the size of the dataset to experiment faster (optional)\n",
    "\n",
    "Training on the complete dataset of >100,000 sentences will take a long time. To train faster, we can limit the size of the dataset to 30,000 sentences (of course, translation quality degrades with less data):"
   ]
  },
  {
   "cell_type": "code",
   "execution_count": 8,
   "metadata": {
    "colab": {
     "base_uri": "https://localhost:8080/",
     "height": 51.0
    },
    "colab_type": "code",
    "executionInfo": {
     "elapsed": 4653.0,
     "status": "ok",
     "timestamp": 1.552768205569E12,
     "user": {
      "displayName": "Samir Moustafa",
      "photoUrl": "https://lh3.googleusercontent.com/-MThIV-xQMp8/AAAAAAAAAAI/AAAAAAAAAEQ/IBKaQGxYglA/s64/photo.jpg",
      "userId": "03656186636167873433"
     },
     "user_tz": -120.0
    },
    "id": "cnxC7q-j3jFD",
    "outputId": "064f323b-0950-4015-ff99-b618dfb16118"
   },
   "outputs": [
    {
     "name": "stdout",
     "output_type": "stream",
     "text": [
      "24638\n",
      "24638\n"
     ]
    }
   ],
   "source": [
    "# Try experimenting with the size of that dataset\n",
    "num_examples = 30000\n",
    "# Load the dataset and return Tensor of the input, Tensor for the traget, Indexed input, Indexed traget, Max length input, Max length target\n",
    "input_tensor, target_tensor, inp_lang, targ_lang, max_length_inp, max_length_targ = load_dataset(path_to_file, num_examples)"
   ]
  },
  {
   "cell_type": "code",
   "execution_count": 9,
   "metadata": {
    "colab": {
     "base_uri": "https://localhost:8080/",
     "height": 34.0
    },
    "colab_type": "code",
    "executionInfo": {
     "elapsed": 3310.0,
     "status": "ok",
     "timestamp": 1.55276820557E12,
     "user": {
      "displayName": "Samir Moustafa",
      "photoUrl": "https://lh3.googleusercontent.com/-MThIV-xQMp8/AAAAAAAAAAI/AAAAAAAAAEQ/IBKaQGxYglA/s64/photo.jpg",
      "userId": "03656186636167873433"
     },
     "user_tz": -120.0
    },
    "id": "4QILQkOs3jFG",
    "outputId": "ef50ef89-86b0-4f7c-c7a9-4c5a708d61b3"
   },
   "outputs": [
    {
     "data": {
      "text/plain": [
       "(19710, 19710, 4928, 4928)"
      ]
     },
     "execution_count": 9,
     "metadata": {},
     "output_type": "execute_result"
    }
   ],
   "source": [
    "# Creating training and validation sets using an 80-20 split\n",
    "input_tensor_train, input_tensor_val, target_tensor_train, target_tensor_val = train_test_split(input_tensor, target_tensor, test_size=0.2)\n",
    "\n",
    "# Show length\n",
    "len(input_tensor_train), len(target_tensor_train), len(input_tensor_val), len(target_tensor_val)"
   ]
  },
  {
   "cell_type": "markdown",
   "metadata": {
    "colab_type": "text",
    "id": "rgCLkfv5uO3d"
   },
   "source": [
    "### Create a tf.data dataset\n",
    "• Define hyper-parameters and load dataset to tensors.![alt text](https://)"
   ]
  },
  {
   "cell_type": "code",
   "execution_count": 10,
   "metadata": {
    "colab": {},
    "colab_type": "code",
    "id": "TqHsArVZ3jFS"
   },
   "outputs": [],
   "source": [
    "BUFFER_SIZE = len(input_tensor_train)\n",
    "BATCH_SIZE = 24\n",
    "N_BATCH = BUFFER_SIZE//BATCH_SIZE\n",
    "embedding_dim = 256\n",
    "units = 300\n",
    "vocab_inp_size = len(inp_lang.word2idx)\n",
    "vocab_tar_size = len(targ_lang.word2idx)\n",
    "\n",
    "dataset = tf.data.Dataset.from_tensor_slices((input_tensor_train, target_tensor_train)).shuffle(BUFFER_SIZE)\n",
    "dataset = dataset.batch(BATCH_SIZE, drop_remainder=True)"
   ]
  },
  {
   "cell_type": "markdown",
   "metadata": {
    "colab_type": "text",
    "id": "Jo6K1BY5c1Rt"
   },
   "source": [
    "Here, we'll implement an encoder-decoder model with attention which you can read about in the TensorFlow [Neural Machine Translation (seq2seq) tutorial](https://github.com/tensorflow/nmt). This example uses a more recent set of APIs. The following diagram shows that each input word is assigned a weight by the attention mechanism which is then used by the decoder to predict the next word in the sentence.\n",
    "\n",
    "<img src=\"https://www.tensorflow.org/images/seq2seq/attention_mechanism.jpg\" width=\"500\" alt=\"attention mechanism\">\n",
    "\n",
    "The input is put through an encoder model which gives us the encoder output of shape *(batch_size, max_length, hidden_size)* and the encoder hidden state of shape *(batch_size, hidden_size)*. \n",
    "\n",
    "Here are the equations that are implemented:\n",
    "\n",
    "<img src=\"https://www.tensorflow.org/images/seq2seq/attention_equation_0.jpg\" alt=\"attention equation 0\" width=\"800\">\n",
    "<img src=\"https://www.tensorflow.org/images/seq2seq/attention_equation_1.jpg\" alt=\"attention equation 1\" width=\"800\">\n",
    "\n",
    "We're using *Bahdanau attention*. Lets decide on notation before writing the simplified form:\n",
    "\n",
    "* FC = Fully connected (dense) layer\n",
    "* EO = Encoder output\n",
    "* H = hidden state\n",
    "* X = input to the decoder\n",
    "\n",
    "And the pseudo-code:\n",
    "\n",
    "* `score = FC(tanh(FC(EO) + FC(H)))`\n",
    "* `attention weights = softmax(score, axis = 1)`. Softmax by default is applied on the last axis but here we want to apply it on the *1st axis*, since the shape of score is *(batch_size, max_length, 1)*. `Max_length` is the length of our input. Since we are trying to assign a weight to each input, softmax should be applied on that axis.\n",
    "* `context vector = sum(attention weights * EO, axis = 1)`. Same reason as above for choosing axis as 1.\n",
    "* `embedding output` = The input to the decoder X is passed through an embedding layer.\n",
    "* `merged vector = concat(embedding output, context vector)`\n",
    "* This merged vector is then given to the GRU\n",
    "  \n",
    "The shapes of all the vectors at each step have been specified in the comments in the code:"
   ]
  },
  {
   "cell_type": "markdown",
   "metadata": {
    "colab_type": "text",
    "id": "rKqbhrELc_Yf"
   },
   "source": [
    "•\tDefine GRU where if GPU is used we use a x3 faster GRU\n",
    " ![](http://colah.github.io/posts/2015-08-Understanding-LSTMs/img/LSTM3-var-GRU.png)"
   ]
  },
  {
   "cell_type": "code",
   "execution_count": 11,
   "metadata": {
    "colab": {},
    "colab_type": "code",
    "id": "avyJ_4VIUoHb"
   },
   "outputs": [],
   "source": [
    "def gru(units):\n",
    "    \n",
    "    '''\n",
    "    Args: \n",
    "        units: number of units\n",
    "    Return:\n",
    "        GRU units\n",
    "    \n",
    "    If you have a GPU, we recommend using CuDNNGRU(provides a 3x speedup than GRU)\n",
    "    the code automatically does that.\n",
    "    '''\n",
    "    return tf.keras.layers.GRU(units, \n",
    "                                return_sequences=True, \n",
    "                                return_state=True, \n",
    "                                recurrent_activation='sigmoid', \n",
    "                                recurrent_initializer='glorot_uniform')"
   ]
  },
  {
   "cell_type": "markdown",
   "metadata": {
    "colab_type": "text",
    "id": "4xCfpQIrdNao"
   },
   "source": [
    "•\tDefine Encoder Class"
   ]
  },
  {
   "cell_type": "code",
   "execution_count": 12,
   "metadata": {
    "colab": {},
    "colab_type": "code",
    "id": "nZ2rI24i3jFg"
   },
   "outputs": [],
   "source": [
    "class Encoder(tf.keras.Model):\n",
    "    ''' Create the word embeddings, then fed as input into the main network,\n",
    "    \n",
    "    This class create encoder which consists of two multi-layer RNNs – an encoder \n",
    "    for the source language and a decoder for the target language.\n",
    "    \n",
    "    Attributes:\n",
    "        vocab_size: Size of vocabulary\n",
    "        embedding_dim: Embedding vector length\n",
    "        enc_units:  Number of GRUs units\n",
    "        batch_sz: batch size ** minimize it for low RAM\n",
    "    '''\n",
    "    def __init__(self, vocab_size, embedding_dim, enc_units, batch_sz):\n",
    "        super(Encoder, self).__init__()\n",
    "        self.batch_sz = batch_sz\n",
    "        self.enc_units = enc_units\n",
    "        self.embedding = tf.keras.layers.Embedding(vocab_size, embedding_dim)\n",
    "        self.gru = gru(self.enc_units)\n",
    "        \n",
    "    def call(self, x, hidden):\n",
    "        x = self.embedding(x)\n",
    "        output, state = self.gru(x, initial_state = hidden)        \n",
    "        return output, state\n",
    "    \n",
    "    def initialize_hidden_state(self):\n",
    "        return tf.zeros((self.batch_sz, self.enc_units))"
   ]
  },
  {
   "cell_type": "code",
   "execution_count": 13,
   "metadata": {
    "colab": {},
    "colab_type": "code",
    "id": "yJ_B3mhW3jFk"
   },
   "outputs": [],
   "source": [
    "class Decoder(tf.keras.Model):\n",
    "    ''' Create the decoder, also needs to have access to the source information.\n",
    "    \n",
    "    This class create decoder which consists of decoder_cell (similar to encoder_cell), \n",
    "    a helper, and the previous encoder_state as inputs.\n",
    "    \n",
    "    Attributes:\n",
    "        vocab_size: Size of vocabulary\n",
    "        embedding_dim: Embedding vector length\n",
    "        enc_units:  Number of GRUs units\n",
    "        batch_sz: batch size ** minimize it for low RAM\n",
    "    '''\n",
    "    def __init__(self, vocab_size, embedding_dim, dec_units, batch_sz):\n",
    "        super(Decoder, self).__init__()\n",
    "        self.batch_sz = batch_sz\n",
    "        self.dec_units = dec_units\n",
    "        self.embedding = tf.keras.layers.Embedding(vocab_size, embedding_dim)\n",
    "        self.gru = gru(self.dec_units)\n",
    "        self.fc = tf.keras.layers.Dense(vocab_size)\n",
    "        \n",
    "        # used for attention\n",
    "        self.W1 = tf.keras.layers.Dense(self.dec_units)\n",
    "        self.W2 = tf.keras.layers.Dense(self.dec_units)\n",
    "        self.V = tf.keras.layers.Dense(1)\n",
    "        \n",
    "    def call(self, x, hidden, enc_output):\n",
    "        # enc_output shape == (batch_size, max_length, hidden_size)\n",
    "        \n",
    "        # hidden shape == (batch_size, hidden size)\n",
    "        # hidden_with_time_axis shape == (batch_size, 1, hidden size)\n",
    "        # we are doing this to perform addition to calculate the score\n",
    "        hidden_with_time_axis = tf.expand_dims(hidden, 1)\n",
    "        \n",
    "        # score shape == (batch_size, max_length, 1)\n",
    "        # we get 1 at the last axis because we are applying tanh(FC(EO) + FC(H)) to self.V\n",
    "        score = self.V(tf.nn.tanh(self.W1(enc_output) + self.W2(hidden_with_time_axis)))\n",
    "        \n",
    "        # attention_weights shape == (batch_size, max_length, 1)\n",
    "        attention_weights = tf.nn.softmax(score, axis=1)\n",
    "        \n",
    "        # context_vector shape after sum == (batch_size, hidden_size)\n",
    "        context_vector = attention_weights * enc_output\n",
    "        context_vector = tf.reduce_sum(context_vector, axis=1)\n",
    "\n",
    "        # x shape after passing through embedding == (batch_size, 1, embedding_dim)\n",
    "        x = self.embedding(x)\n",
    "        \n",
    "        # x shape after concatenation == (batch_size, 1, embedding_dim + hidden_size)\n",
    "        x = tf.concat([tf.expand_dims(context_vector, 1), x], axis=-1)\n",
    "        \n",
    "        # passing the concatenated vector to the GRU\n",
    "        output, state = self.gru(x)\n",
    "        \n",
    "        # output shape == (batch_size * 1, hidden_size)\n",
    "        output = tf.reshape(output, (-1, output.shape[2]))\n",
    "        \n",
    "        # output shape == (batch_size * 1, vocab)\n",
    "        x = self.fc(output)\n",
    "            \n",
    "        return x, state, attention_weights\n",
    "        \n",
    "    def initialize_hidden_state(self):\n",
    "        return tf.zeros((self.batch_sz, self.dec_units))\n",
    "    \n",
    "    def saved_hidden_state(self):\n",
    "        return self.gru.states"
   ]
  },
  {
   "cell_type": "code",
   "execution_count": 14,
   "metadata": {
    "colab": {},
    "colab_type": "code",
    "id": "P5UY8wko3jFp"
   },
   "outputs": [],
   "source": [
    "encoder = Encoder(vocab_inp_size, embedding_dim, units, BATCH_SIZE)\n",
    "decoder = Decoder(vocab_tar_size, embedding_dim, units, BATCH_SIZE)"
   ]
  },
  {
   "cell_type": "markdown",
   "metadata": {
    "colab_type": "text",
    "id": "_ch_71VbIRfK"
   },
   "source": [
    "## Define the optimizer and the loss function"
   ]
  },
  {
   "cell_type": "code",
   "execution_count": 15,
   "metadata": {
    "colab": {},
    "colab_type": "code",
    "id": "WmTHr5iV3jFr"
   },
   "outputs": [],
   "source": [
    "optimizer = tf.keras.optimizers.Adam()\n",
    "\n",
    "\n",
    "def loss_function(real, pred):\n",
    "    mask = 1 - np.equal(real, 0)\n",
    "    loss_ = tf.nn.sparse_softmax_cross_entropy_with_logits(labels=real, logits=pred) * mask\n",
    "    return tf.reduce_mean(loss_)"
   ]
  },
  {
   "cell_type": "markdown",
   "metadata": {
    "colab_type": "text",
    "id": "DMVWzzsfNl4e"
   },
   "source": [
    "## Save model (Object-based saving)"
   ]
  },
  {
   "cell_type": "code",
   "execution_count": 16,
   "metadata": {
    "colab": {},
    "colab_type": "code",
    "id": "Zj8bXQTgNwrF"
   },
   "outputs": [],
   "source": [
    "save_dir = './model_save'\n",
    "encoder_prefix = os.path.join(save_dir, \"encoder_weights\")\n",
    "decoder_prefix = os.path.join(save_dir, \"decoder_weights\")"
   ]
  },
  {
   "cell_type": "markdown",
   "metadata": {
    "colab_type": "text",
    "id": "jUhEhzMcaa1Z"
   },
   "source": [
    "## Load saved model"
   ]
  },
  {
   "cell_type": "code",
   "execution_count": 17,
   "metadata": {
    "colab": {
     "base_uri": "https://localhost:8080/",
     "height": 34.0
    },
    "colab_type": "code",
    "executionInfo": {
     "elapsed": 1052.0,
     "status": "ok",
     "timestamp": 1.552768420794E12,
     "user": {
      "displayName": "Samir Moustafa",
      "photoUrl": "https://lh3.googleusercontent.com/-MThIV-xQMp8/AAAAAAAAAAI/AAAAAAAAAEQ/IBKaQGxYglA/s64/photo.jpg",
      "userId": "03656186636167873433"
     },
     "user_tz": -120.0
    },
    "id": "Wdv8PdoDbtzC",
    "outputId": "4cf4bdb3-c676-42d7-e931-5c7f7f52f127"
   },
   "outputs": [
    {
     "data": {
      "text/plain": [
       "<tensorflow.python.training.tracking.util.CheckpointLoadStatus at 0x7f922a21c828>"
      ]
     },
     "execution_count": 17,
     "metadata": {},
     "output_type": "execute_result"
    }
   ],
   "source": [
    "encoder.load_weights(encoder_prefix)\n",
    "decoder.load_weights(decoder_prefix)"
   ]
  },
  {
   "cell_type": "markdown",
   "metadata": {
    "colab_type": "text",
    "id": "hpObfY22IddU"
   },
   "source": [
    "## Training\n",
    "\n",
    "1. Pass the *input* through the *encoder* which return *encoder output* and the *encoder hidden state*.\n",
    "2. The encoder output, encoder hidden state and the decoder input (which is the *start token*) is passed to the decoder.\n",
    "3. The decoder returns the *predictions* and the *decoder hidden state*.\n",
    "4. The decoder hidden state is then passed back into the model and the predictions are used to calculate the loss.\n",
    "5. Use *teacher forcing* to decide the next input to the decoder.\n",
    "6. *Teacher forcing* is the technique where the *target word* is passed as the *next input* to the decoder.\n",
    "7. The final step is to calculate the gradients and apply it to the optimizer and backpropagate."
   ]
  },
  {
   "cell_type": "code",
   "execution_count": 0,
   "metadata": {
    "colab": {
     "base_uri": "https://localhost:8080/",
     "height": 153.0
    },
    "colab_type": "code",
    "executionInfo": {
     "elapsed": 1.3910215E7,
     "status": "ok",
     "timestamp": 1.552506134166E12,
     "user": {
      "displayName": "Samir Moustafa",
      "photoUrl": "https://lh3.googleusercontent.com/-MThIV-xQMp8/AAAAAAAAAAI/AAAAAAAAAEQ/IBKaQGxYglA/s64/photo.jpg",
      "userId": "03656186636167873433"
     },
     "user_tz": -120.0
    },
    "id": "ddefjBMa3jF0",
    "outputId": "1ab9dadb-9981-4470-c353-d39a602eacdc"
   },
   "outputs": [
    {
     "name": "stdout",
     "output_type": "stream",
     "text": [
      "Epoch 1 Batch 0 Loss 0.0190\n",
      "Epoch 1 Batch 100 Loss 0.0115\n",
      "Epoch 1 Batch 200 Loss 0.0025\n",
      "Epoch 1 Batch 300 Loss 0.0165\n",
      "Epoch 1 Batch 400 Loss 0.0298\n",
      "Epoch 1 Batch 500 Loss 0.0394\n",
      "Epoch 1 Batch 600 Loss 0.0097\n",
      "Epoch 1 Batch 700 Loss 0.0034\n"
     ]
    }
   ],
   "source": [
    "EPOCHS = 8\n",
    "best_total_loss = 0.0071\n",
    "\n",
    "for epoch in range(EPOCHS):\n",
    "    start = time.time()\n",
    "    \n",
    "    hidden = encoder.initialize_hidden_state()\n",
    "    total_loss = 0\n",
    "    \n",
    "    for (batch, (inp, targ)) in enumerate(dataset):\n",
    "        loss = 0\n",
    "        \n",
    "        with tf.GradientTape() as tape:\n",
    "            enc_output, enc_hidden = encoder(inp, hidden)\n",
    "            \n",
    "            dec_hidden = enc_hidden\n",
    "            \n",
    "            dec_input = tf.expand_dims([targ_lang.word2idx['<start>']] * BATCH_SIZE, 1)       \n",
    "            \n",
    "            # Teacher forcing - feeding the target as the next input\n",
    "            for t in range(1, targ.shape[1]):\n",
    "                # passing enc_output to the decoder\n",
    "                predictions, dec_hidden, _ = decoder(dec_input, dec_hidden, enc_output)\n",
    "                \n",
    "                loss += loss_function(targ[:, t], predictions)\n",
    "                \n",
    "                # using teacher forcing\n",
    "                dec_input = tf.expand_dims(targ[:, t], 1)\n",
    "        \n",
    "        batch_loss = (loss / int(targ.shape[1]))\n",
    "        \n",
    "        total_loss += batch_loss\n",
    "        \n",
    "        variables = encoder.variables + decoder.variables\n",
    "        \n",
    "        gradients = tape.gradient(loss, variables)\n",
    "        \n",
    "        optimizer.apply_gradients(zip(gradients, variables))\n",
    "        \n",
    "        if batch % 100 == 0:\n",
    "            print('Epoch {} Batch {} Loss {:.4f}'.format(epoch + 1,\n",
    "                                                         batch,\n",
    "                                                         batch_loss.numpy()))\n",
    "    \n",
    "    print('Epoch {} Loss {:.4f}'.format(epoch + 1, total_loss / N_BATCH))\n",
    "    \n",
    "    if best_total_loss > (total_loss / N_BATCH):\n",
    "        \n",
    "        best_total_loss = total_loss\n",
    "        \n",
    "        encoder.save_weights(encoder_prefix)\n",
    "        decoder.save_weights(decoder_prefix)\n",
    "        \n",
    "        print('Saving weights at epoch {} with Loss {:.4f}'.format(epoch + 1, total_loss / N_BATCH))\n",
    "        \n",
    "    print('Time taken for 1 epoch {} sec\\n'.format(time.time() - start))"
   ]
  },
  {
   "cell_type": "markdown",
   "metadata": {
    "colab_type": "text",
    "id": "mU3Ce8M6I3rz"
   },
   "source": [
    "## Translate\n",
    "\n",
    "* The evaluate function is similar to the training loop, except we don't use *teacher forcing* here. The input to the decoder at each time step is its previous predictions along with the hidden state and the encoder output.\n",
    "* Stop predicting when the model predicts the *end token*.\n",
    "* And store the *attention weights for every time step*.\n",
    "\n",
    "Note: The encoder output is calculated only once for one input."
   ]
  },
  {
   "cell_type": "code",
   "execution_count": 18,
   "metadata": {
    "colab": {},
    "colab_type": "code",
    "id": "EbQpyYs13jF_"
   },
   "outputs": [],
   "source": [
    "def evaluate(sentence, encoder, decoder, inp_lang, targ_lang, max_length_inp, max_length_targ):\n",
    "    attention_plot = np.zeros((max_length_targ, max_length_inp))\n",
    "    \n",
    "    sentence = preprocess_sentence(sentence)\n",
    "\n",
    "    inputs = [inp_lang.word2idx[i] for i in sentence.split(' ')]\n",
    "    inputs = tf.keras.preprocessing.sequence.pad_sequences([inputs], maxlen=max_length_inp, padding='post')\n",
    "    inputs = tf.convert_to_tensor(inputs)\n",
    "    \n",
    "    result = ''\n",
    "\n",
    "    hidden = [tf.zeros((1, units))]\n",
    "    enc_out, enc_hidden = encoder(inputs, hidden)\n",
    "\n",
    "    dec_hidden = enc_hidden\n",
    "    dec_input = tf.expand_dims([targ_lang.word2idx['<start>']], 0)\n",
    "\n",
    "    for t in range(max_length_targ):\n",
    "        predictions, dec_hidden, attention_weights = decoder(dec_input, dec_hidden, enc_out)\n",
    "        \n",
    "        # storing the attention weigths to plot later on\n",
    "        attention_weights = tf.reshape(attention_weights, (-1, ))\n",
    "        attention_plot[t] = attention_weights.numpy()\n",
    "\n",
    "        predicted_id = tf.argmax(predictions[0]).numpy()\n",
    "\n",
    "        result += targ_lang.idx2word[predicted_id] + ' '\n",
    "\n",
    "        if targ_lang.idx2word[predicted_id] == '<end>':\n",
    "            return result, sentence, attention_plot\n",
    "        \n",
    "        # the predicted ID is fed back into the model\n",
    "        dec_input = tf.expand_dims([predicted_id], 0)\n",
    "\n",
    "    return result, sentence, attention_plot"
   ]
  },
  {
   "cell_type": "code",
   "execution_count": 19,
   "metadata": {
    "colab": {},
    "colab_type": "code",
    "id": "s5hQWlbN3jGF"
   },
   "outputs": [],
   "source": [
    "# function for plotting the attention weights\n",
    "def plot_attention(attention, sentence, predicted_sentence):\n",
    "    fig = plt.figure(figsize=(10,10))\n",
    "    ax = fig.add_subplot(1, 1, 1)\n",
    "    ax.matshow(attention, cmap='viridis')\n",
    "    \n",
    "    fontdict = {'fontsize': 14}\n",
    "    \n",
    "    ax.set_xticklabels([''] + sentence, fontdict=fontdict)\n",
    "    ax.set_yticklabels([''] + predicted_sentence, fontdict=fontdict)\n",
    "\n",
    "    plt.show()"
   ]
  },
  {
   "cell_type": "code",
   "execution_count": 20,
   "metadata": {
    "colab": {},
    "colab_type": "code",
    "id": "sl9zUHzg3jGI"
   },
   "outputs": [],
   "source": [
    "def translate(sentence, encoder, decoder, inp_lang, targ_lang, max_length_inp, max_length_targ):\n",
    "    result, sentence, attention_plot = evaluate(sentence, encoder, decoder, inp_lang, targ_lang, max_length_inp, max_length_targ)\n",
    "        \n",
    "    print('Input: {}'.format(sentence))\n",
    "    print('Predicted translation: {}'.format(result))\n",
    "\n",
    "    attention_plot = attention_plot[:len(result.split(' ')), :len(sentence.split(' '))]\n",
    "    plot_attention(attention_plot, get_display(arabic_reshaper.reshape(sentence)).split(' '), result.split(' '))"
   ]
  },
  {
   "cell_type": "markdown",
   "metadata": {
    "colab_type": "text",
    "id": "d3UmlQQzozsX"
   },
   "source": [
    "## Evaluation and see output"
   ]
  },
  {
   "cell_type": "code",
   "execution_count": 21,
   "metadata": {
    "colab": {
     "base_uri": "https://localhost:8080/",
     "height": 660.0
    },
    "colab_type": "code",
    "executionInfo": {
     "elapsed": 4741.0,
     "status": "ok",
     "timestamp": 1.552768451931E12,
     "user": {
      "displayName": "Samir Moustafa",
      "photoUrl": "https://lh3.googleusercontent.com/-MThIV-xQMp8/AAAAAAAAAAI/AAAAAAAAAEQ/IBKaQGxYglA/s64/photo.jpg",
      "userId": "03656186636167873433"
     },
     "user_tz": -120.0
    },
    "id": "i-fLpzWomnss",
    "outputId": "f4b987e0-6dd3-4566-b7f4-9e43609a4a37"
   },
   "outputs": [
    {
     "name": "stdout",
     "output_type": "stream",
     "text": [
      "Input: <start> جرب <end>\n",
      "Predicted translation: try it . <end> \n"
     ]
    },
    {
     "data": {
      "image/png": "[encoded data removed]",
      "text/plain": [
       "<Figure size 720x720 with 1 Axes>"
      ]
     },
     "metadata": {
      "needs_background": "light"
     },
     "output_type": "display_data"
    }
   ],
   "source": [
    "translate(u'جرب', encoder, decoder, inp_lang, targ_lang, max_length_inp, max_length_targ)"
   ]
  },
  {
   "cell_type": "code",
   "execution_count": 22,
   "metadata": {},
   "outputs": [
    {
     "name": "stdout",
     "output_type": "stream",
     "text": [
      "Input: <start> هل يعجبك ذلك <end>\n",
      "Predicted translation: do you like it ? <end> \n"
     ]
    },
    {
     "data": {
      "image/png": "[encoded data removed]",
      "text/plain": [
       "<Figure size 720x720 with 1 Axes>"
      ]
     },
     "metadata": {
      "needs_background": "light"
     },
     "output_type": "display_data"
    }
   ],
   "source": [
    "translate(u'هل يعجبك ذلك', encoder, decoder, inp_lang, targ_lang, max_length_inp, max_length_targ)"
   ]
  },
  {
   "cell_type": "code",
   "execution_count": 23,
   "metadata": {
    "colab": {
     "base_uri": "https://localhost:8080/",
     "height": 660.0
    },
    "colab_type": "code",
    "executionInfo": {
     "elapsed": 1547.0,
     "status": "ok",
     "timestamp": 1.552768456197E12,
     "user": {
      "displayName": "Samir Moustafa",
      "photoUrl": "https://lh3.googleusercontent.com/-MThIV-xQMp8/AAAAAAAAAAI/AAAAAAAAAEQ/IBKaQGxYglA/s64/photo.jpg",
      "userId": "03656186636167873433"
     },
     "user_tz": -120.0
    },
    "id": "WrAM0FDomq3E",
    "outputId": "195b7a09-9683-4f5f-ac94-9454a0eacbd1"
   },
   "outputs": [
    {
     "name": "stdout",
     "output_type": "stream",
     "text": [
      "Input: <start> قد يعمل ذلك بشكل جيد <end>\n",
      "Predicted translation: he works for a good . <end> \n"
     ]
    },
    {
     "data": {
      "image/png": "[encoded data removed]",
      "text/plain": [
       "<Figure size 720x720 with 1 Axes>"
      ]
     },
     "metadata": {
      "needs_background": "light"
     },
     "output_type": "display_data"
    }
   ],
   "source": [
    "translate(u'قد يعمل ذلك بشكل جيد', encoder, decoder, inp_lang, targ_lang, max_length_inp, max_length_targ)"
   ]
  },
  {
   "cell_type": "code",
   "execution_count": 24,
   "metadata": {},
   "outputs": [
    {
     "name": "stdout",
     "output_type": "stream",
     "text": [
      "Input: <start> هل تسطيع الترجمة <end>\n",
      "Predicted translation: will you drive ? <end> \n"
     ]
    },
    {
     "data": {
      "image/png": "[encoded data removed]",
      "text/plain": [
       "<Figure size 720x720 with 1 Axes>"
      ]
     },
     "metadata": {
      "needs_background": "light"
     },
     "output_type": "display_data"
    }
   ],
   "source": [
    "translate(u'هل تسطيع الترجمة', encoder, decoder, inp_lang, targ_lang, max_length_inp, max_length_targ)"
   ]
  },
  {
   "cell_type": "code",
   "execution_count": 25,
   "metadata": {
    "colab": {
     "base_uri": "https://localhost:8080/",
     "height": 660.0
    },
    "colab_type": "code",
    "executionInfo": {
     "elapsed": 1723.0,
     "status": "ok",
     "timestamp": 1.552768461831E12,
     "user": {
      "displayName": "Samir Moustafa",
      "photoUrl": "https://lh3.googleusercontent.com/-MThIV-xQMp8/AAAAAAAAAAI/AAAAAAAAAEQ/IBKaQGxYglA/s64/photo.jpg",
      "userId": "03656186636167873433"
     },
     "user_tz": -120.0
    },
    "id": "zSx2iM36EZQZ",
    "outputId": "2361c2e0-e6b1-46e3-fe29-191d63034027"
   },
   "outputs": [
    {
     "name": "stdout",
     "output_type": "stream",
     "text": [
      "Input: <start> اريد افضل من ذلك <end>\n",
      "Predicted translation: i d better like that . <end> \n"
     ]
    },
    {
     "data": {
      "image/png": "[encoded data removed]",
      "text/plain": [
       "<Figure size 720x720 with 1 Axes>"
      ]
     },
     "metadata": {
      "needs_background": "light"
     },
     "output_type": "display_data"
    }
   ],
   "source": [
    "translate(u'اريد افضل من ذلك', encoder, decoder, inp_lang, targ_lang, max_length_inp, max_length_targ)"
   ]
  },
  {
   "cell_type": "code",
   "execution_count": 26,
   "metadata": {
    "colab": {
     "base_uri": "https://localhost:8080/",
     "height": 660.0
    },
    "colab_type": "code",
    "executionInfo": {
     "elapsed": 1563.0,
     "status": "ok",
     "timestamp": 1.552768467919E12,
     "user": {
      "displayName": "Samir Moustafa",
      "photoUrl": "https://lh3.googleusercontent.com/-MThIV-xQMp8/AAAAAAAAAAI/AAAAAAAAAEQ/IBKaQGxYglA/s64/photo.jpg",
      "userId": "03656186636167873433"
     },
     "user_tz": -120.0
    },
    "id": "A3LLCx3ZE0Ls",
    "outputId": "dc2055a6-0c73-4c39-b4c1-5e24a48bda9b"
   },
   "outputs": [
    {
     "name": "stdout",
     "output_type": "stream",
     "text": [
      "Input: <start> من اين جاء ? <end>\n",
      "Predicted translation: how was done . <end> \n"
     ]
    },
    {
     "data": {
      "image/png": "[encoded data removed]",
      "text/plain": [
       "<Figure size 720x720 with 1 Axes>"
      ]
     },
     "metadata": {
      "needs_background": "light"
     },
     "output_type": "display_data"
    }
   ],
   "source": [
    "translate(u'من اين جاء?', encoder, decoder, inp_lang, targ_lang, max_length_inp, max_length_targ)"
   ]
  },
  {
   "cell_type": "code",
   "execution_count": 27,
   "metadata": {
    "colab": {
     "base_uri": "https://localhost:8080/",
     "height": 660.0
    },
    "colab_type": "code",
    "executionInfo": {
     "elapsed": 1270.0,
     "status": "ok",
     "timestamp": 1.552768474411E12,
     "user": {
      "displayName": "Samir Moustafa",
      "photoUrl": "https://lh3.googleusercontent.com/-MThIV-xQMp8/AAAAAAAAAAI/AAAAAAAAAEQ/IBKaQGxYglA/s64/photo.jpg",
      "userId": "03656186636167873433"
     },
     "user_tz": -120.0
    },
    "id": "DUQVLVqUE1YW",
    "outputId": "68f9beb5-16de-477a-e6c1-70a7bb79a989"
   },
   "outputs": [
    {
     "name": "stdout",
     "output_type": "stream",
     "text": [
      "Input: <start> كيف تفعل ذلك بشكل افضل <end>\n",
      "Predicted translation: how do you do you ? <end> \n"
     ]
    },
    {
     "data": {
      "image/png": "[encoded data removed]",
      "text/plain": [
       "<Figure size 720x720 with 1 Axes>"
      ]
     },
     "metadata": {
      "needs_background": "light"
     },
     "output_type": "display_data"
    }
   ],
   "source": [
    "translate(u'كيف تفعل ذلك بشكل افضل', encoder, decoder, inp_lang, targ_lang, max_length_inp, max_length_targ)"
   ]
  },
  {
   "cell_type": "code",
   "execution_count": 28,
   "metadata": {
    "colab": {
     "base_uri": "https://localhost:8080/",
     "height": 660.0
    },
    "colab_type": "code",
    "executionInfo": {
     "elapsed": 1617.0,
     "status": "ok",
     "timestamp": 1.552768481557E12,
     "user": {
      "displayName": "Samir Moustafa",
      "photoUrl": "https://lh3.googleusercontent.com/-MThIV-xQMp8/AAAAAAAAAAI/AAAAAAAAAEQ/IBKaQGxYglA/s64/photo.jpg",
      "userId": "03656186636167873433"
     },
     "user_tz": -120.0
    },
    "id": "-EUAJvJvd9bL",
    "outputId": "2c15fe38-b657-4e17-b1c7-b14ad6377a25"
   },
   "outputs": [
    {
     "name": "stdout",
     "output_type": "stream",
     "text": [
      "Input: <start> هل يعمل ذلك بشكل جيد <end>\n",
      "Predicted translation: do you care for . <end> \n"
     ]
    },
    {
     "data": {
      "image/png": "[encoded data removed]",
      "text/plain": [
       "<Figure size 720x720 with 1 Axes>"
      ]
     },
     "metadata": {
      "needs_background": "light"
     },
     "output_type": "display_data"
    }
   ],
   "source": [
    "translate(u'هل يعمل ذلك بشكل جيد', encoder, decoder, inp_lang, targ_lang, max_length_inp, max_length_targ)"
   ]
  },
  {
   "cell_type": "code",
   "execution_count": 29,
   "metadata": {
    "colab": {
     "base_uri": "https://localhost:8080/",
     "height": 660.0
    },
    "colab_type": "code",
    "executionInfo": {
     "elapsed": 1307.0,
     "status": "ok",
     "timestamp": 1.552768486509E12,
     "user": {
      "displayName": "Samir Moustafa",
      "photoUrl": "https://lh3.googleusercontent.com/-MThIV-xQMp8/AAAAAAAAAAI/AAAAAAAAAEQ/IBKaQGxYglA/s64/photo.jpg",
      "userId": "03656186636167873433"
     },
     "user_tz": -120.0
    },
    "id": "N8NsPXd8eJ2q",
    "outputId": "d13c148f-ceb7-4ead-973d-a88f69cdd986"
   },
   "outputs": [
    {
     "name": "stdout",
     "output_type": "stream",
     "text": [
      "Input: <start> انت تسعدني <end>\n",
      "Predicted translation: you re happy . <end> \n"
     ]
    },
    {
     "data": {
      "image/png": "[encoded data removed]",
      "text/plain": [
       "<Figure size 720x720 with 1 Axes>"
      ]
     },
     "metadata": {
      "needs_background": "light"
     },
     "output_type": "display_data"
    }
   ],
   "source": [
    "translate(u'أنت تسعدني', encoder, decoder, inp_lang, targ_lang, max_length_inp, max_length_targ)"
   ]
  },
  {
   "cell_type": "code",
   "execution_count": 30,
   "metadata": {
    "colab": {
     "base_uri": "https://localhost:8080/",
     "height": 660.0
    },
    "colab_type": "code",
    "executionInfo": {
     "elapsed": 1180.0,
     "status": "ok",
     "timestamp": 1.552768492365E12,
     "user": {
      "displayName": "Samir Moustafa",
      "photoUrl": "https://lh3.googleusercontent.com/-MThIV-xQMp8/AAAAAAAAAAI/AAAAAAAAAEQ/IBKaQGxYglA/s64/photo.jpg",
      "userId": "03656186636167873433"
     },
     "user_tz": -120.0
    },
    "id": "Qi-tISzYeQj_",
    "outputId": "eaa481ec-0173-42e6-f030-1ac3b0ea03a7"
   },
   "outputs": [
    {
     "name": "stdout",
     "output_type": "stream",
     "text": [
      "Input: <start> لا تستسلم انا متاكد <end>\n",
      "Predicted translation: don t give you by . <end> \n"
     ]
    },
    {
     "data": {
      "image/png": "[encoded data removed]",
      "text/plain": [
       "<Figure size 720x720 with 1 Axes>"
      ]
     },
     "metadata": {
      "needs_background": "light"
     },
     "output_type": "display_data"
    }
   ],
   "source": [
    "translate(u'لا تستسلم انا متاكد', encoder, decoder, inp_lang, targ_lang, max_length_inp, max_length_targ)"
   ]
  },
  {
   "cell_type": "code",
   "execution_count": 31,
   "metadata": {
    "colab": {
     "base_uri": "https://localhost:8080/",
     "height": 660.0
    },
    "colab_type": "code",
    "executionInfo": {
     "elapsed": 1306.0,
     "status": "ok",
     "timestamp": 1.552768497192E12,
     "user": {
      "displayName": "Samir Moustafa",
      "photoUrl": "https://lh3.googleusercontent.com/-MThIV-xQMp8/AAAAAAAAAAI/AAAAAAAAAEQ/IBKaQGxYglA/s64/photo.jpg",
      "userId": "03656186636167873433"
     },
     "user_tz": -120.0
    },
    "id": "-LBuJ7vHetDK",
    "outputId": "9ecefc6b-6c8f-45c6-995c-b01190651ff1"
   },
   "outputs": [
    {
     "name": "stdout",
     "output_type": "stream",
     "text": [
      "Input: <start> ماذا اقول بعد ما قيل <end>\n",
      "Predicted translation: what to say could have been wanted ? <end> \n"
     ]
    },
    {
     "data": {
      "image/png": "[encoded data removed]",
      "text/plain": [
       "<Figure size 720x720 with 1 Axes>"
      ]
     },
     "metadata": {
      "needs_background": "light"
     },
     "output_type": "display_data"
    }
   ],
   "source": [
    "translate(u'ماذا اقول بعد ما قيل', encoder, decoder, inp_lang, targ_lang, max_length_inp, max_length_targ)"
   ]
  },
  {
   "cell_type": "code",
   "execution_count": 32,
   "metadata": {
    "colab": {
     "base_uri": "https://localhost:8080/",
     "height": 660.0
    },
    "colab_type": "code",
    "executionInfo": {
     "elapsed": 1657.0,
     "status": "ok",
     "timestamp": 1.552768505655E12,
     "user": {
      "displayName": "Samir Moustafa",
      "photoUrl": "https://lh3.googleusercontent.com/-MThIV-xQMp8/AAAAAAAAAAI/AAAAAAAAAEQ/IBKaQGxYglA/s64/photo.jpg",
      "userId": "03656186636167873433"
     },
     "user_tz": -120.0
    },
    "id": "jshYqX92eybD",
    "outputId": "ac5fa82f-de57-4dd0-df84-eb8be48fc64c"
   },
   "outputs": [
    {
     "name": "stdout",
     "output_type": "stream",
     "text": [
      "Input: <start> هذا ليس الافضل <end>\n",
      "Predicted translation: that s not as you . <end> \n"
     ]
    },
    {
     "data": {
      "image/png": "[encoded data removed]",
      "text/plain": [
       "<Figure size 720x720 with 1 Axes>"
      ]
     },
     "metadata": {
      "needs_background": "light"
     },
     "output_type": "display_data"
    }
   ],
   "source": [
    "translate(u'هذا ليس الافضل', encoder, decoder, inp_lang, targ_lang, max_length_inp, max_length_targ)"
   ]
  },
  {
   "cell_type": "code",
   "execution_count": 33,
   "metadata": {
    "colab": {
     "base_uri": "https://localhost:8080/",
     "height": 414.0
    },
    "colab_type": "code",
    "executionInfo": {
     "elapsed": 1699.0,
     "status": "ok",
     "timestamp": 1.552768511435E12,
     "user": {
      "displayName": "Samir Moustafa",
      "photoUrl": "https://lh3.googleusercontent.com/-MThIV-xQMp8/AAAAAAAAAAI/AAAAAAAAAEQ/IBKaQGxYglA/s64/photo.jpg",
      "userId": "03656186636167873433"
     },
     "user_tz": -120.0
    },
    "id": "GyNEFwTPfI3e",
    "outputId": "f95a1434-e139-4a5b-dd68-554320ccd046"
   },
   "outputs": [
    {
     "name": "stdout",
     "output_type": "stream",
     "text": [
      "Input: <start> انا لا اعرف متى سيكون لدي الوقت <end>\n",
      "Predicted translation: i don t know when i ll have the time . <end> \n"
     ]
    },
    {
     "data": {
      "image/png": "[encoded data removed]",
      "text/plain": [
       "<Figure size 720x720 with 1 Axes>"
      ]
     },
     "metadata": {
      "needs_background": "light"
     },
     "output_type": "display_data"
    }
   ],
   "source": [
    "translate(u'انا لا اعرف متى سيكون لدي الوقت', encoder, decoder, inp_lang, targ_lang, max_length_inp, max_length_targ)"
   ]
  }
 ],
 "metadata": {
  "accelerator": "GPU",
  "colab": {
   "collapsed_sections": [],
   "name": "nmt_with_attention_for_en_to_ar.ipynb",
   "provenance": [
    {
     "file_id": "https://github.com/tensorflow/tensorflow/blob/master/tensorflow/contrib/eager/python/examples/nmt_with_attention/nmt_with_attention.ipynb",
     "timestamp": 1.549877753686E12
    }
   ],
   "toc_visible": true,
   "version": "0.3.2"
  },
  "kernelspec": {
   "display_name": "Python 3",
   "language": "python",
   "name": "python3"
  },
  "language_info": {
   "codemirror_mode": {
    "name": "ipython",
    "version": 3.0
   },
   "file_extension": ".py",
   "mimetype": "text/x-python",
   "name": "python",
   "nbconvert_exporter": "python",
   "pygments_lexer": "ipython3",
   "version": "3.6.7"
  }
 },
 "nbformat": 4,
 "nbformat_minor": 0
}